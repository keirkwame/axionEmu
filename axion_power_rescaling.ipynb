{
 "cells": [
  {
   "cell_type": "code",
   "execution_count": 1,
   "metadata": {},
   "outputs": [],
   "source": [
    "import copy as cp\n",
    "import numpy as np\n",
    "import matplotlib.pyplot as plt\n",
    "import distinct_colours_py3 as dc\n"
   ]
  },
  {
   "cell_type": "code",
   "execution_count": 2,
   "metadata": {},
   "outputs": [],
   "source": [
    "plt.rc('text', usetex=True)\n",
    "plt.rc('font', family='serif', size=20.) #24 normally #32 for convergence; violinplot\n",
    "\n",
    "plt.rc('axes', linewidth=1.5)\n",
    "plt.rc('xtick.major', width=1.5)\n",
    "plt.rc('xtick.minor', width=1.5)\n",
    "plt.rc('ytick.major', width=1.5)\n",
    "plt.rc('ytick.minor', width=1.5)\n"
   ]
  },
  {
   "cell_type": "code",
   "execution_count": 3,
   "metadata": {},
   "outputs": [],
   "source": [
    "##Load matter power spectra\n",
    "#fnames = ['/home/keir/Software/axionEmu/axion_best_fit_eBOSS_Planck_LCDM_matterpower_z3.dat', '/home/keir/Software/axionEmu/running_Planck+Ext+eBOSS_pk.dat', '/home/keir/Software/axionEmu/axion_best_fit_eBOSS_Planck_matterpower_z3.dat', '/home/keir/Software/axionEmu/WDM_Planck+Ext+eBOSS_pk.dat']\n",
    "#fnames = ['/home/keir/Software/axionEmu/axion_best_fit_eBOSS_Planck_LCDM_matterpower_z3.dat', '/home/keir/Software/axionEmu/axion_best_fit_eBOSS_Planck_matterpower_z3.dat']\n",
    "fnames = ['LCDM_Planck+Ext', 'mnu_Planck+Ext+eBOSS', 'running_Planck+Ext+eBOSS', 'axion_Planck+Ext+eBOSS', 'WDMv2fmax_Planck+Ext+eBOSS']\n",
    "matter_powers = [None] * len(fnames)\n",
    "for i, fname in enumerate(fnames):\n",
    "    matter_powers[i] = np.loadtxt('/home/keir/Data/best_fit_Planck_eBOSS/%s_pk.dat'%fname)\n"
   ]
  },
  {
   "cell_type": "code",
   "execution_count": null,
   "metadata": {},
   "outputs": [],
   "source": [
    "#Plot matter power spectra\n",
    "%matplotlib inline\n",
    "power_labels = ['LCDM', 'Best-fit axion']\n",
    "fig, axes = plt.subplots(nrows=2, ncols=1, figsize=(5., 8.))\n",
    "for i, matter_power in enumerate(matter_powers):\n",
    "    axes[0].plot(matter_power[:, 0], matter_power[:, 1], label=power_labels[i]) #* (matter_power[:, 0] ** 3.)\n",
    "    axes[1].plot(matter_power[:, 0], matter_power[:, 1] / matter_powers[0][:, 1])\n",
    "axes[0].set_xscale('log')\n",
    "axes[1].set_xscale('log')\n",
    "axes[0].set_yscale('log')\n",
    "axes[1].set_xlabel('k [h/Mpc]')\n",
    "axes[0].set_ylabel('P(k) [(Mpc/h)^3]')\n",
    "axes[1].set_ylabel('P(k) / P(k) [LCDM]')\n",
    "axes[0].legend(frameon=False)\n"
   ]
  },
  {
   "cell_type": "code",
   "execution_count": null,
   "metadata": {},
   "outputs": [],
   "source": [
    "matter_powers[0][:,0]\n",
    "print(np.where(matter_powers[0][:,0] > 1.))\n",
    "print(matter_powers[0][np.array([610, 611]), 0])\n",
    "\n",
    "print(np.where(matter_powers[2][:,0] > 1.))\n",
    "print(matter_powers[2][np.array([610, 611]), 0])\n",
    "\n",
    "print(np.where(matter_powers[4][:,0] > 1.))\n",
    "print(matter_powers[4][np.array([611, 612]), 0])\n"
   ]
  },
  {
   "cell_type": "code",
   "execution_count": 4,
   "metadata": {},
   "outputs": [
    {
     "name": "stdout",
     "output_type": "stream",
     "text": [
      "5833\n",
      "5833\n",
      "5833\n",
      "5833\n",
      "5833\n",
      "[6.77598622 6.82254778 6.50850704 6.07916812 6.3716721 ] [-2.30042464 -2.30883823 -2.33153898 -2.33733814 -2.33335729]\n",
      "[1.         1.00687155 0.96052542 0.89716359 0.94033132]\n"
     ]
    }
   ],
   "source": [
    "##Calculate power amplitude and tilt\n",
    "power_amplitude = np.zeros(len(matter_powers))\n",
    "power_tilt = np.zeros_like(power_amplitude)\n",
    "k_samp = 10. ** np.linspace(-2.1, 1.5, num=10000)\n",
    "\n",
    "for i in range(power_amplitude.shape[0]):\n",
    "    k_piv_idx = np.where(k_samp > 1.)[0][0]\n",
    "    print(k_piv_idx)\n",
    "\n",
    "    matter_power_interp = 10. ** np.interp(np.log10(k_samp), np.log10(matter_powers[i][:, 0]), np.log10(matter_powers[i][:, 1]))\n",
    "    #if i == 0:\n",
    "    #    matter_power_interp_LCDM = cp.deepcopy(matter_power_interp)\n",
    "\n",
    "    power_amplitude[i] = matter_power_interp[k_piv_idx-1]\n",
    "    power_tilt[i] = (np.log(matter_power_interp[k_piv_idx]) - np.log(matter_power_interp[k_piv_idx - 1])) / (np.log(k_samp[k_piv_idx]) - np.log(k_samp[k_piv_idx - 1]))\n",
    "print(power_amplitude, power_tilt)\n",
    "print(power_amplitude / power_amplitude[0])\n"
   ]
  },
  {
   "cell_type": "code",
   "execution_count": 5,
   "metadata": {},
   "outputs": [
    {
     "name": "stdout",
     "output_type": "stream",
     "text": [
      "[7.94328235e-03 7.94987017e-03 7.95646345e-03 ... 3.15703886e+01\n",
      " 3.15965718e+01 3.16227766e+01]\n"
     ]
    }
   ],
   "source": [
    "print(k_samp)\n"
   ]
  },
  {
   "cell_type": "code",
   "execution_count": 6,
   "metadata": {},
   "outputs": [],
   "source": [
    "##Calculate rescaled power spectra\n",
    "matter_power_rescaled_all = [None,] * len(matter_powers)\n",
    "\n",
    "for i in range(len(matter_power_rescaled_all)):\n",
    "    matter_power_rescaled = matter_powers[i][:, 1] * power_amplitude[0] / power_amplitude[i]\n",
    "    matter_power_rescaled_all[i] = np.log(matter_power_rescaled) + ((power_tilt[0] - power_tilt[i]) * (np.log(matter_powers[i][:, 0]) - np.log(1.)))\n"
   ]
  },
  {
   "cell_type": "code",
   "execution_count": 7,
   "metadata": {},
   "outputs": [
    {
     "name": "stdout",
     "output_type": "stream",
     "text": [
      "[0.32750611 0.25411652 0.20229351 0.15853475 0.18207413 0.25295118\n",
      " 0.21245524 0.2367462  0.25194808 0.29042048 0.32007679 0.40674786\n",
      " 0.32129933 0.61357836 0.65593766 0.96726019 0.77813319 0.54997302\n",
      " 2.67713547]\n"
     ]
    }
   ],
   "source": [
    "error_eBOSS = np.loadtxt('/home/keir/Software/axionEmu/DR14_pm3d_19kbins_data.txt')\n",
    "frac_error_eBOSS = error_eBOSS[:, 2] / error_eBOSS[:, 1]\n",
    "print(frac_error_eBOSS)\n"
   ]
  },
  {
   "cell_type": "code",
   "execution_count": null,
   "metadata": {},
   "outputs": [],
   "source": [
    "#Plot matter power spectra\n",
    "%matplotlib inline\n",
    "power_labels = ['LCDM', 'Best-fit axion']\n",
    "fig, axes = plt.subplots(nrows=2, ncols=1, figsize=(10., 16.))\n",
    "for i, matter_power in enumerate(matter_powers):\n",
    "    axes[0].plot(matter_power[:, 0], matter_power[:, 1], label=power_labels[i]) #* (matter_power[:, 0] ** 3.)\n",
    "    axes[1].plot(matter_power[:, 0], matter_power[:, 1] / matter_powers[0][:, 1])\n",
    "\n",
    "axes[1].plot(matter_powers[1][:, 0], np.exp(matter_power_rescaled_tilt_log) / matter_powers[0][:, 1])\n",
    "axes[1].errorbar(x = error_eBOSS[:, 0] / 0.7, y = np.ones_like(error_eBOSS[:, 0]), yerr=frac_error_eBOSS)\n",
    "\n",
    "axes[0].set_xscale('log')\n",
    "axes[1].set_xscale('log')\n",
    "axes[0].set_yscale('log')\n",
    "axes[1].set_xlabel('k [h/Mpc]')\n",
    "axes[0].set_ylabel('P(k) [(Mpc/h)^3]')\n",
    "axes[1].set_ylabel('P(k) / P(k) [LCDM]')\n",
    "axes[0].legend(frameon=False)\n",
    "axes[1].set_ylim([0.8, 1.2])\n",
    "plt.title('Green = rescaled axion matter power; red = eBOSS linear power errorbars')\n"
   ]
  },
  {
   "cell_type": "code",
   "execution_count": null,
   "metadata": {},
   "outputs": [],
   "source": [
    "##Plot matter power spectra\n",
    "#eBOSS likelihood\n",
    "p_k_piv_eBOSS = 2. * (np.pi ** 2.) * 0.31\n",
    "p_k_piv_eBOSS_err = 2. * (np.pi ** 2.) * 0.02\n",
    "\n",
    "n_L_piv_eBOSS = -2.34\n",
    "n_L_piv_eBOSS_err = 0.006\n",
    "\n",
    "p_k_all_eBOSS_tilt1 = (p_k_piv_eBOSS - 0.) * (k_samp ** (-2.34 + 0.006))\n",
    "p_k_all_eBOSS_tilt2 = (p_k_piv_eBOSS - 0.) * (k_samp ** (-2.34 - 0.006))\n",
    "p_k_all_eBOSS_best_tilt = p_k_piv_eBOSS * (k_samp ** n_L_piv_eBOSS)\n",
    "#p_k_all_eBOSS_tilt3 = (p_k_piv_eBOSS + p_k_piv_eBOSS_err) * (matter_powers[0][:, 0] ** (-2.34 + 0.006))\n",
    "#p_k_all_eBOSS_tilt4 = (p_k_piv_eBOSS + p_k_piv_eBOSS_err) * (matter_powers[0][:, 0] ** (-2.34 - 0.006))\n",
    "#p_k_all_eBOSS_min = np.concatenate((p_k_all_eBOSS_tilt1, p_k_all_eBOSS_tilt2))\n",
    "p_k_all_LCDM = power_amplitude[0] * (k_samp ** power_tilt[0])\n",
    "\n",
    "#k = matter_powers[0][:, 0]\n",
    "k_eBOSS = (k_samp > np.min(error_eBOSS[:, 0] / 0.7)) * (k_samp < np.max(error_eBOSS[:, 0] / 0.7))\n",
    "\n",
    "#%matplotlib inline\n",
    "power_labels = [r'$\\Lambda$CDM best fit', r'$\\Sigma m_\\nu$ best fit', r'$\\alpha_\\mathrm{s}$ best fit', r'ULA best fit', r'WDM best fit']\n",
    "\n",
    "plt.rc('text', usetex=True)\n",
    "plt.rc('font', family='serif', size=28.) #24 normally #32 for convergence; violinplot\n",
    "\n",
    "plt.rc('axes', linewidth=1.5)\n",
    "plt.rc('xtick.major', width=1.5)\n",
    "plt.rc('xtick.minor', width=1.5)\n",
    "plt.rc('ytick.major', width=1.5)\n",
    "plt.rc('ytick.minor', width=1.5)\n",
    "\n",
    "plot_colours = dc.get_distinct(5)\n",
    "plot_colours[3] = 'orange'\n",
    "\n",
    "fig, axes = plt.subplots(nrows=2, ncols=1, figsize=(10., 10.), height_ratios=[1,2], sharex=True)\n",
    "power_derivs = [None] * len(matter_powers)\n",
    "k_samp = 10. ** np.linspace(-2.1, 1.5, num=10000)\n",
    "\n",
    "axes[1].fill_betweenx(y=[0.65, 1.2], x1=1.e-3, x2=0.2, color='#D3D3D3', label=r'\\textit{Planck} CMB wavenumbers')\n",
    "axes[1].fill_betweenx(y=[0.65, 1.2], x1=np.min(error_eBOSS[:, 0] / 0.7), x2=np.max(error_eBOSS[:, 0] / 0.7), color='#A9A9A9', label=r'eBOSS Ly-$\\alpha$ forest wavenumbers')\n",
    "\n",
    "axes[1].errorbar(1., p_k_piv_eBOSS / matter_power_interp_LCDM[k_piv_idx-1], yerr=p_k_piv_eBOSS_err / matter_power_interp_LCDM[k_piv_idx], color='black', marker='o', label=r'Compressed eBOSS data $\\Delta_\\mathrm{lin}^2$, $n_\\mathrm{lin}$', lw=2.5)\n",
    "#axes[1].plot(k_samp[k_eBOSS], (p_k_all_eBOSS_best_tilt / p_k_all_LCDM)[k_eBOSS], color='black', lw=2.5)\n",
    "axes[1].fill_between(x=k_samp[k_eBOSS], y1=(p_k_all_eBOSS_tilt1 / p_k_all_LCDM)[k_eBOSS], y2=(p_k_all_eBOSS_tilt2 / p_k_all_LCDM)[k_eBOSS], color='black')\n",
    "\n",
    "for i, matter_power in enumerate(matter_powers):\n",
    "    power_derivs[i] = (np.log(matter_power[1:, 1]) - np.log(matter_power[:-1, 1])) / (np.log(matter_power[1:, 0]) - np.log(matter_power[:-1, 0]))\n",
    "\n",
    "    matter_power_interp = 10. ** np.interp(np.log10(k_samp), np.log10(matter_power[:, 0]), np.log10(matter_power[:, 1]))\n",
    "    if i == 0:\n",
    "        matter_power_interp_LCDM = cp.deepcopy(matter_power_interp)\n",
    "\n",
    "    axes[0].plot(matter_power[:, 0], matter_power[:, 1] * (matter_power[:, 0] ** 1.), label=power_labels[i], lw=2.5, color=plot_colours[i]) #* (matter_power[:, 0] ** 3.)\n",
    "    axes[1].plot(k_samp, matter_power_interp / matter_power_interp_LCDM, lw=2.5, color=plot_colours[i])\n",
    "    #axes[2].plot(matter_power[1:, 0], power_derivs[i])\n",
    "#axes[1].axvline(x=0.3,color='black', ls=':')\n",
    "#axes[1].axvline(x=4.,color='black', ls=':')\n",
    "#axes[1].axvline(x=2.e-4,color='grey', ls=':')\n",
    "#axes[1].axvline(x=0.15,color='grey', ls=':')\n",
    "\n",
    "axes[0].set_xscale('log')\n",
    "axes[1].set_xscale('log')\n",
    "#axes[2].set_xscale('log')\n",
    "axes[0].set_yscale('log')\n",
    "axes[1].set_xlabel(r'Wavenumber $k\\,(h\\,\\mathrm{Mpc}^{-1})$')\n",
    "axes[0].set_ylabel(r'$k P(k,z)\\,(\\mathrm{Mpc}^2\\,h^{-2})$')\n",
    "axes[1].set_ylabel(r'$P(k,z) / P(k,z; \\Lambda\\mathrm{CDM})$')\n",
    "#axes[2].set_ylabel('n_L')\n",
    "axes[0].legend(frameon=False, fontsize=22.)\n",
    "axes[1].legend(frameon=True, loc='lower left', fontsize=22., facecolor='white', framealpha=1., edgecolor='white')\n",
    "axes[0].set_xlim([0.01, 10.])\n",
    "axes[0].set_ylim([0.15, 90.])\n",
    "axes[1].set_xlim([0.01, 10.])\n",
    "axes[1].set_ylim([0.83, 1.03])\n",
    "\n",
    "fig.subplots_adjust(hspace=0., left=0.13, right=0.97, top=0.99, bottom=0.1)\n",
    "#axes[2].set_xlim([0.01, 5.])\n",
    "#axes[2].set_ylim([-2.4, -2.3])\n",
    "#plt.title('Green = rescaled axion matter power; red = eBOSS linear power errorbars')\n",
    "plt.savefig('power_spectrum_best_fit12_all_v2.pdf')\n"
   ]
  },
  {
   "cell_type": "code",
   "execution_count": 17,
   "metadata": {},
   "outputs": [
    {
     "data": {
      "image/png": "[encoded data removed]",
      "text/plain": [
       "<Figure size 720x480.24 with 1 Axes>"
      ]
     },
     "metadata": {
      "needs_background": "light"
     },
     "output_type": "display_data"
    }
   ],
   "source": [
    "##Plot model residual\n",
    "plt.rc('text', usetex=True)\n",
    "plt.rc('font', family='serif', size=28.) #28 normally\n",
    "\n",
    "plt.rc('axes', linewidth=1.5)\n",
    "plt.rc('xtick.major', width=1.5)\n",
    "plt.rc('xtick.minor', width=1.5)\n",
    "plt.rc('ytick.major', width=1.5)\n",
    "plt.rc('ytick.minor', width=1.5)\n",
    "\n",
    "plot_colours = dc.get_distinct(5)\n",
    "plot_colours[3] = 'orange'\n",
    "power_labels = [r'$\\Lambda$CDM best fit', r'Rescaled $\\Sigma m_\\nu$ best fit', r'Rescaled $\\alpha_\\mathrm{s}$ best fit', r'Rescaled ULA best fit', r'Rescaled WDM best fit']\n",
    "\n",
    "fig, axes = plt.subplots(nrows=1, ncols=1, figsize=(10., 6.67))\n",
    "axes = [axes,]\n",
    "#axes[0].axhline(y=1., color=plot_colours[0], label=r'$\\Lambda$CDM best fit', lw=2.5)\n",
    "for i in range(len(matter_power_rescaled_all)):\n",
    "    matter_power_interp = np.exp(np.interp(np.log10(k_samp), np.log10(matter_powers[i][:, 0]), matter_power_rescaled_all[i]))\n",
    "    if i == 0:\n",
    "        matter_power_interp_LCDM = cp.deepcopy(matter_power_interp)\n",
    "\n",
    "    axes[0].plot(k_samp, matter_power_interp / matter_power_interp_LCDM, label=power_labels[i], color=plot_colours[i], lw=2.5)\n",
    "axes[0].axvline(x=1., color='black', ls=':', lw=2.5) #label=r'eBOSS Ly-$\\alpha$ forest pivot wavenumber $k_\\mathrm{p}$'\n",
    "axes[0].fill_betweenx(y=[0.94, 1.06], x1=np.min(error_eBOSS[:, 0] / 0.7), x2=np.max(error_eBOSS[:, 0] / 0.7), color='#A9A9A9')\n",
    "#, label=r'eBOSS Ly-$\\alpha$ forest sensitivity'\n",
    "axes[0].legend(frameon=True, fontsize=22., loc='lower center', facecolor='white', framealpha=1., edgecolor='white', ncol=2)\n",
    "axes[0].set_xticks([0.3, 0.9, 1., 3.])\n",
    "#axes[0].set_xscale('log')\n",
    "axes[0].set_xlabel(r'Wavenumber $k\\,(h\\,\\mathrm{Mpc}^{-1})$')\n",
    "axes[0].set_ylabel(r'$P(k,z) / P(k,z; \\Lambda\\mathrm{CDM})$')\n",
    "axes[0].set_xlim([0.27, 4.])\n",
    "axes[0].set_ylim([0.935, 1.065])\n",
    "\n",
    "fig.subplots_adjust(left=0.13, right=0.99, top=0.99, bottom=0.15)\n",
    "plt.savefig('model_residual_best_fit8_v2.pdf')\n"
   ]
  },
  {
   "cell_type": "code",
   "execution_count": null,
   "metadata": {},
   "outputs": [],
   "source": []
  }
 ],
 "metadata": {
  "kernelspec": {
   "display_name": "Python 3",
   "language": "python",
   "name": "python3"
  },
  "language_info": {
   "codemirror_mode": {
    "name": "ipython",
    "version": 3
   },
   "file_extension": ".py",
   "mimetype": "text/x-python",
   "name": "python",
   "nbconvert_exporter": "python",
   "pygments_lexer": "ipython3",
   "version": "3.8.10"
  }
 },
 "nbformat": 4,
 "nbformat_minor": 4
}
